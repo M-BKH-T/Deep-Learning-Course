{
 "cells": [
  {
   "cell_type": "markdown",
   "id": "f635dc5f-da2a-4b9e-baed-fbf6f9ac6c1e",
   "metadata": {},
   "source": [
    "DL_SEQUENTIAL"
   ]
  },
  {
   "cell_type": "markdown",
   "id": "9a86925e-07dd-4494-ad20-4968faedbb65",
   "metadata": {},
   "source": [
    "The prerequisite for this course is that you have already passed the machine learning course or are familiar with its concepts."
   ]
  },
  {
   "cell_type": "markdown",
   "id": "5819d5fb-c015-4d1f-a89f-9672954e2225",
   "metadata": {},
   "source": [
    "Let's start the lesson with this question"
   ]
  },
  {
   "cell_type": "markdown",
   "id": "64cb8d8f-bb6b-46f7-9d41-013b6806adfb",
   "metadata": {},
   "source": [
    "WHY DEEP LEARNING?"
   ]
  },
  {
   "cell_type": "markdown",
   "id": "92e39523-f1a6-4bf6-b77b-111352f11754",
   "metadata": {},
   "source": [
    "If you have worked with machine learning algorithms, you know that you can train a wide range of data with them"
   ]
  },
  {
   "cell_type": "markdown",
   "id": "dda485fb-c8db-4b76-b1d8-a390d65932b9",
   "metadata": {},
   "source": [
    "But machine learning has some limitations. ML algorithms are very weak in working with complex data such as video, image, audio, etc. and also do not perform well when faced with a large number of data (for example, more than 50 thousand)"
   ]
  },
  {
   "cell_type": "markdown",
   "id": "b64f2256-1ed2-4688-9ceb-220379acb90e",
   "metadata": {},
   "source": [
    "Deep learning using the neural network algorithm can learn these complex data with high accuracy, and there is no limit to the large number of data in DL."
   ]
  },
  {
   "cell_type": "markdown",
   "id": "40b7ed02-1e92-46e9-90db-cff35f002117",
   "metadata": {},
   "source": [
    "The neural network algorithm also has limitations in terms of time and hardware resources, which we will discuss further"
   ]
  },
  {
   "cell_type": "markdown",
   "id": "37e1d21e-4b96-4a42-b138-12a47811ed47",
   "metadata": {},
   "source": [
    "At first, we are going to build a simple sequential model using keras API"
   ]
  },
  {
   "cell_type": "markdown",
   "id": "1570c47f-e3a1-4bca-a93d-312b179db7fe",
   "metadata": {},
   "source": [
    "First, we call keras using tensorflow\n",
    "Tip : we could call keras directly with --> import keras   \n",
    "BUT I advise you not to do this(why? i'll answer this layter)"
   ]
  },
  {
   "cell_type": "code",
   "execution_count": 1,
   "id": "5c22bcec-cf7b-4ab2-b3c0-573a58409bef",
   "metadata": {},
   "outputs": [],
   "source": [
    "from tensorflow import keras\n",
    "import matplotlib.pyplot as plt"
   ]
  },
  {
   "cell_type": "markdown",
   "id": "5eb1102c-e463-4cb4-9e14-fbc10cc2ba22",
   "metadata": {},
   "source": [
    "like sklearn, keras has some datasets that we can use them with-->keras.datasets"
   ]
  },
  {
   "cell_type": "code",
   "execution_count": 2,
   "id": "bb767c17-4bd9-4f6b-a6a5-52f3d4154679",
   "metadata": {},
   "outputs": [],
   "source": [
    "fmnist = keras.datasets.fashion_mnist"
   ]
  },
  {
   "cell_type": "markdown",
   "id": "75803df8-f1fe-49a3-a8b9-0bde6d50a222",
   "metadata": {},
   "source": [
    "This is a dataset of 60,000 28x28 grayscale images of 10 fashion categories, along with a test set of 10,000 images. \n",
    " This dataset can be used as a drop-in replacement for MNIST"
   ]
  },
  {
   "cell_type": "markdown",
   "id": "0d32fdfa-365d-416e-91d9-e4fa9359517a",
   "metadata": {},
   "source": [
    "[for more information about fmnist](https://keras.io/api/datasets/fashion_mnist/)"
   ]
  },
  {
   "cell_type": "markdown",
   "id": "c4b1071b-c73a-445c-82b7-60dc0795b0b4",
   "metadata": {},
   "source": [
    "with keras datasets we can easily split train and test data ,\n",
    " just we must load data functioan and write a simple line code "
   ]
  },
  {
   "cell_type": "code",
   "execution_count": 3,
   "id": "8ccbb5df-e244-4d0d-a82e-ad21c6418860",
   "metadata": {},
   "outputs": [],
   "source": [
    "(xtrain , ytrain ) , (xtest , ytest ) = fmnist.load_data()"
   ]
  },
  {
   "cell_type": "code",
   "execution_count": 4,
   "id": "83fcac24-aa4e-41bb-b5cd-29c394ae63f3",
   "metadata": {},
   "outputs": [
    {
     "name": "stdout",
     "output_type": "stream",
     "text": [
      "xtrain = (60000, 28, 28)\n",
      "xtest = (10000, 28, 28)\n",
      "ytrain =  (60000,)\n",
      "ytest = (10000,)\n"
     ]
    }
   ],
   "source": [
    "print('xtrain ='  , xtrain.shape)\n",
    "print('xtest =' , xtest.shape)\n",
    "print('ytrain = ' , ytrain.shape)\n",
    "print('ytest =' ,ytest.shape)"
   ]
  },
  {
   "cell_type": "markdown",
   "id": "0dcd4eca-ca1b-4470-8e4f-6fdecaf36c94",
   "metadata": {},
   "source": [
    "as you see *xtrain* and *ytrain* are **multidimensional data**!"
   ]
  },
  {
   "cell_type": "code",
   "execution_count": 5,
   "id": "ebca2e5f-e953-405c-b139-ff6c7435da72",
   "metadata": {},
   "outputs": [
    {
     "data": {
      "text/plain": [
       "<matplotlib.image.AxesImage at 0x1beffb6fca0>"
      ]
     },
     "execution_count": 5,
     "metadata": {},
     "output_type": "execute_result"
    },
    {
     "data": {
      "image/png": "[encoded data removed]",
      "text/plain": [
       "<Figure size 640x480 with 1 Axes>"
      ]
     },
     "metadata": {},
     "output_type": "display_data"
    }
   ],
   "source": [
    "plt.imshow(xtrain[1,:,:] , cmap=\"gray\") # fmnist is a black and whit image dataset so we use cmap gray "
   ]
  },
  {
   "cell_type": "code",
   "execution_count": 6,
   "id": "1f339afc-73ab-481a-a43e-34c0e488b870",
   "metadata": {},
   "outputs": [],
   "source": [
    "xtrain , xtest = xtrain/255.0 , xtest/255.0 #normalizing "
   ]
  },
  {
   "cell_type": "markdown",
   "id": "544f86e9-3f1b-4f33-b061-528def7b4415",
   "metadata": {},
   "source": [
    "At this point, you may ask, why should we divide by 255?"
   ]
  },
  {
   "cell_type": "markdown",
   "id": "3b817bb8-a2d0-43ec-8f88-dd59ea5d1028",
   "metadata": {},
   "source": [
    "<img src='https://github.com/amanchadha/coursera-deep-learning-specialization/blob/master/C1%20-%20Neural%20Networks%20and%20Deep%20Learning/Week%204/Building%20your%20Deep%20Neural%20Network%20-%20Step%20by%20Step/images/2layerNN.png?raw=true'>"
   ]
  },
  {
   "cell_type": "markdown",
   "id": "328dbdd5-9474-4b94-8923-607565e3d464",
   "metadata": {},
   "source": [
    "As you can see, all color images are composed of a 3D array and each of these layers represents the intensity of one of the 3 main colors red, blue and green."
   ]
  },
  {
   "cell_type": "markdown",
   "id": "c9e16629-8c8a-45fb-b96b-3e126bd7b9d4",
   "metadata": {},
   "source": [
    "and what is the maximom value of each colors? \n",
    "yes! 255"
   ]
  },
  {
   "cell_type": "markdown",
   "id": "9afa9638-8db7-4f6a-b5d1-077ab69554b9",
   "metadata": {},
   "source": [
    "The max value of each of the colors is 255. The minimum value is 0. Colors are almost always written with the Red value first, the Green value second, and the Blue value third. Memorize \"RGB\""
   ]
  },
  {
   "cell_type": "markdown",
   "id": "7284fafa-bc68-4ab6-821f-704c9074614d",
   "metadata": {},
   "source": [
    "# Suggested settings for Classification"
   ]
  },
  {
   "cell_type": "markdown",
   "id": "e0889abd-f0ba-4388-9a07-d9214cf2c159",
   "metadata": {},
   "source": [
    "| Hyperparameters | binary cassification | Multibel binary classification | Multiclass classification |\n",
    "| ----------- | ----------- | ----------- | ----------- |\n",
    "| Output neurons | 1 | 1 for each Label | 1 for each Class |\n",
    "| AF in last layer | Logistic | Logistic | Softmax |\n",
    "| Loss Function | Cross Entropy | Cross Entropy | Cross Entropy"
   ]
  },
  {
   "cell_type": "markdown",
   "id": "c1dd838b-cfba-4537-8b36-b66e4210441b",
   "metadata": {},
   "source": [
    "# Suggested setting for Regression "
   ]
  },
  {
   "cell_type": "markdown",
   "id": "dadab358-9d6a-4302-9f7d-ef11ea4c53c0",
   "metadata": {},
   "source": [
    "| Hyperparameters | Usual values |\n",
    "| ----------- | ----------- |\n",
    "| values of neurons  | One per Feature |\n",
    "| Number of headen layers | Between 1 and 5 |\n",
    "| How many neurons in each hidden layer | Between 10 and 100 |\n",
    "| AF in Headen layers | RELU(SELU) | \n",
    "| Loss Function | MSE OR MAE OR Huber |"
   ]
  },
  {
   "cell_type": "markdown",
   "id": "6caa95ff-53a6-4530-ac18-6981294bf5e4",
   "metadata": {},
   "source": [
    "We can code sequentioal in two ways"
   ]
  },
  {
   "cell_type": "markdown",
   "id": "00774cf0-10b5-48d1-a22a-3c68d6c5fa01",
   "metadata": {},
   "source": [
    "Tip: this is a **classification** Algorithm"
   ]
  },
  {
   "cell_type": "markdown",
   "id": "07cf7731-3ecd-48d8-9747-4476ade10aec",
   "metadata": {},
   "source": [
    "The first way :"
   ]
  },
  {
   "cell_type": "code",
   "execution_count": 8,
   "id": "65c946fa-7832-42a2-9b2d-85cec8b65732",
   "metadata": {},
   "outputs": [],
   "source": [
    "model = keras.models.Sequential()\n",
    "model.add(keras.layers.Flatten(input_shape=[28,28]))\n",
    "model.add(keras.layers.Dense(100,activation='relu'))\n",
    "model.add(keras.layers.Dense(75 , activation='relu'))\n",
    "model.add(keras.layers.Dense(10 , activation='softmax'))"
   ]
  },
  {
   "cell_type": "markdown",
   "id": "036fb255-fe5a-4929-85d0-50e8d67bbce8",
   "metadata": {},
   "source": [
    "The second way :"
   ]
  },
  {
   "cell_type": "code",
   "execution_count": 20,
   "id": "8bd006c5-666e-433c-a260-05b4497bf3f5",
   "metadata": {},
   "outputs": [],
   "source": [
    "model = keras.models.Sequential([\n",
    "    keras.layers.Flatten(input_shape=[28,28]),\n",
    "    keras.layers.Dense(100,activation='relu'),\n",
    "    keras.layers.Dense(75 , activation='relu'),\n",
    "    keras.layers.Dense(10 , activation='softmax')\n",
    "])"
   ]
  },
  {
   "cell_type": "markdown",
   "id": "a3cecb31-a594-4da6-9295-97a68c8aa70b",
   "metadata": {},
   "source": [
    "The second way is shorter, faster and more legible \n",
    "and in the future we code like second way"
   ]
  },
  {
   "cell_type": "markdown",
   "id": "f318a1d2-a20d-40bc-b2e8-1e8bfbd372c8",
   "metadata": {},
   "source": [
    "Why we use Flatten layer? \n",
    " --- ---\n",
    "Reshaping Input: The primary role of the 'Flatten' layer in Keras is to transform multidimensional input data, such as images or sequences, into a one-dimensional array"
   ]
  },
  {
   "cell_type": "code",
   "execution_count": 11,
   "id": "4debdbfc-d7c9-4509-90c4-dda6bf5004ff",
   "metadata": {},
   "outputs": [],
   "source": [
    "model.compile(loss='sparse_categorical_crossentropy' ,optimizer='sgd', metrics='accuracy')"
   ]
  },
  {
   "cell_type": "code",
   "execution_count": null,
   "id": "87559fc9-4377-43d6-aa48-efcc596240ed",
   "metadata": {},
   "outputs": [],
   "source": [
    "model.fit(xtrain , ytrain , epochs=10 , validation_split=0.2)"
   ]
  },
  {
   "cell_type": "markdown",
   "id": "0967d6c8-de98-4439-bfbb-3f7e69066f76",
   "metadata": {},
   "source": [
    "What is Validation_data/split?\n",
    "--- ---\n",
    "validation_data: Data on which to evaluate the loss and any model metrics at the end of each epoch. The model will not be trained on this data"
   ]
  },
  {
   "cell_type": "markdown",
   "id": "fc454cb7-89e3-4d07-afa8-d267122e7941",
   "metadata": {},
   "source": [
    "no problem ! if you have no idea about loss , optimizer , metrics , ect \n",
    "ini this course We will talk about all of them in this course"
   ]
  }
 ],
 "metadata": {
  "kernelspec": {
   "display_name": "Python 3 (ipykernel)",
   "language": "python",
   "name": "python3"
  },
  "language_info": {
   "codemirror_mode": {
    "name": "ipython",
    "version": 3
   },
   "file_extension": ".py",
   "mimetype": "text/x-python",
   "name": "python",
   "nbconvert_exporter": "python",
   "pygments_lexer": "ipython3",
   "version": "3.9.19"
  }
 },
 "nbformat": 4,
 "nbformat_minor": 5
}
