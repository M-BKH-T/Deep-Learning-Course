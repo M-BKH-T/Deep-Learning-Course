{
 "cells": [
  {
   "cell_type": "markdown",
   "id": "3a201e80-5a5f-4261-8575-deb4be39ee11",
   "metadata": {},
   "source": [
    "DL_DENSE_PART2"
   ]
  },
  {
   "cell_type": "markdown",
   "id": "55b37192-cd69-4f9f-96ff-7ebb72a0774a",
   "metadata": {},
   "source": [
    "Hello and Weclome to losson 2 of Dense layer :)"
   ]
  },
  {
   "cell_type": "markdown",
   "id": "71fb9b8e-de2d-40b9-8634-e7a446db3f5d",
   "metadata": {},
   "source": [
    "If you have studied the backpropagation algorithm, one of the factors of vanishing gradient was the use of sigmoid function activation with the wrong initialization method that was used."
   ]
  },
  {
   "cell_type": "markdown",
   "id": "12a2a610-6125-4b96-85a8-cf3e51cbc7c3",
   "metadata": {},
   "source": [
    "What happened was that after we give the initial values ​​in each layer in the forward path, the variance of the outputs becomes larger. What we give to the activation function becomes bigger"
   ]
  },
  {
   "cell_type": "markdown",
   "id": "d3e97caf-34da-4e61-9dd0-d5b6f56565a3",
   "metadata": {},
   "source": [
    "What's the solution?<br>\n",
    "Choose the appropriate initialization function for each activation"
   ]
  },
  {
   "cell_type": "markdown",
   "id": "c2e88ac8-3391-48ea-9ae5-4f17afe30986",
   "metadata": {},
   "source": [
    "![](initialization.png)"
   ]
  },
  {
   "cell_type": "markdown",
   "id": "0b10347e-e794-4d7d-9a99-895acbb6b242",
   "metadata": {},
   "source": [
    "All initializations have two forms <br>\n",
    "Uniform and normal"
   ]
  },
  {
   "cell_type": "markdown",
   "id": "28fbd6e2-9cbc-4636-8e92-ae5e1b114fe3",
   "metadata": {},
   "source": [
    "The normal distribution has a peak at the mean and decreases as the values move away from the mean, which means that values near the mean are more likely than values far from the mean. The uniform distribution has no peak and is constant across the range, which means that all values are equally likely."
   ]
  },
  {
   "cell_type": "markdown",
   "id": "4cacd0da-2076-4990-afea-e01c38f955c3",
   "metadata": {},
   "source": [
    "<img src='https://github.com/M-BKH-T/Deep-Learning-Course/blob/main/Book1/Lesson2_Dense/image/unifrom_normal.jpg?raw=true'>"
   ]
  },
  {
   "cell_type": "markdown",
   "id": "166ef49c-cf36-4d30-a04d-f66f849cf483",
   "metadata": {},
   "source": [
    "Let me show you how to implement initialization in keras"
   ]
  },
  {
   "cell_type": "markdown",
   "id": "3ca7b05d-6668-497a-9415-d38d0b831d12",
   "metadata": {},
   "source": [
    "it's code time ^_^"
   ]
  },
  {
   "cell_type": "code",
   "execution_count": 2,
   "id": "d9fb756d-f26b-4ab8-82d9-31645aa997c7",
   "metadata": {},
   "outputs": [],
   "source": [
    "from tensorflow import keras"
   ]
  },
  {
   "cell_type": "code",
   "execution_count": 3,
   "id": "ad74e4a5-cb7c-4f30-ba26-9e1bb73b5fe7",
   "metadata": {},
   "outputs": [],
   "source": [
    "fmnist = keras.datasets.fashion_mnist"
   ]
  },
  {
   "cell_type": "code",
   "execution_count": 4,
   "id": "25bb4c5b-0a3a-45fc-94d7-dbcb1d569ebb",
   "metadata": {},
   "outputs": [],
   "source": [
    "(xtrain , ytrain) , (xtest , ytest) = fmnist.load_data()"
   ]
  },
  {
   "cell_type": "code",
   "execution_count": 5,
   "id": "b624fe56-0823-4ffc-9f72-d3f951a32a33",
   "metadata": {},
   "outputs": [],
   "source": [
    "model = keras.models.Sequential([\n",
    "    keras.layers.Flatten(input_shape=[28,28]),\n",
    "    keras.layers.Dense(100 , activation=\"relu\" , kernel_initializer=\"he_normal\"),#as you see its soooo easy to set initialization in keras\n",
    "    keras.layers.Dense(75 , activation=\"sigmoid\" , kernel_initializer=\"glorot_normal\"),\n",
    "    keras.layers.Dense(10 , activation=\"softmax\")#for softmax dont set any kernel initialization\n",
    "])"
   ]
  },
  {
   "cell_type": "code",
   "execution_count": 8,
   "id": "9c4c6422-5266-47f9-95d9-8d5165c989c2",
   "metadata": {},
   "outputs": [],
   "source": [
    "model.compile(optimizer=\"sgd\" , loss=\"sparse_categorical_crossentropy\" , metrics=\"accuracy\")"
   ]
  },
  {
   "cell_type": "code",
   "execution_count": null,
   "id": "50fa3c29-8337-45e7-af93-84caadacd6c0",
   "metadata": {},
   "outputs": [
    {
     "name": "stdout",
     "output_type": "stream",
     "text": [
      "Epoch 1/5\n",
      "1407/1407 [==============================] - 7s 3ms/step - loss: 1.0149 - accuracy: 0.6787 - val_loss: 0.7518 - val_accuracy: 0.7529\n",
      "Epoch 2/5\n",
      "1407/1407 [==============================] - 4s 3ms/step - loss: 0.6648 - accuracy: 0.7623 - val_loss: 0.6300 - val_accuracy: 0.7766\n",
      "Epoch 3/5\n",
      "1407/1407 [==============================] - 4s 3ms/step - loss: 0.5842 - accuracy: 0.7934 - val_loss: 0.5469 - val_accuracy: 0.8020\n",
      "Epoch 4/5\n",
      "1407/1407 [==============================] - 4s 3ms/step - loss: 0.5547 - accuracy: 0.8037 - val_loss: 0.5490 - val_accuracy: 0.8017\n",
      "Epoch 5/5\n",
      "1407/1407 [==============================] - 4s 3ms/step - loss: 0.5273 - accuracy: 0.8145 - val_loss: 0.5183 - val_accuracy: 0.8164\n"
     ]
    },
    {
     "data": {
      "text/plain": [
       "<keras.callbacks.History at 0x1d1a12060d0>"
      ]
     },
     "execution_count": 9,
     "metadata": {},
     "output_type": "execute_result"
    }
   ],
   "source": [
    "model.fit(xtrain , ytrain , epochs=5 , validation_split=0.25)"
   ]
  },
  {
   "cell_type": "markdown",
   "id": "3479863b-d0b2-4a99-9279-1265012b4113",
   "metadata": {},
   "source": [
    "as you see with just 5 epochs and just 3 layers we can reach 80% accuracy"
   ]
  },
  {
   "cell_type": "markdown",
   "id": "502d42f1-3bdb-40ce-8f7e-f66436c82eb0",
   "metadata": {},
   "source": [
    "it's done \n",
    "thank U"
   ]
  }
 ],
 "metadata": {
  "kernelspec": {
   "display_name": "Python 3 (ipykernel)",
   "language": "python",
   "name": "python3"
  },
  "language_info": {
   "codemirror_mode": {
    "name": "ipython",
    "version": 3
   },
   "file_extension": ".py",
   "mimetype": "text/x-python",
   "name": "python",
   "nbconvert_exporter": "python",
   "pygments_lexer": "ipython3",
   "version": "3.9.19"
  }
 },
 "nbformat": 4,
 "nbformat_minor": 5
}
