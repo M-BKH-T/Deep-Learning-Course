{
 "cells": [
  {
   "cell_type": "markdown",
   "id": "9b3749ff-f802-426d-b805-f4e258201151",
   "metadata": {},
   "source": [
    "- # <font color='Pink' >Hi there</font>,<font color='Cyan'>I'm</font> <font color='red'>___M-BKH-T___ </font>👋"
   ]
  },
  {
   "cell_type": "markdown",
   "id": "729277be-611f-44ef-bee5-e6c7b95aa6d0",
   "metadata": {},
   "source": [
    "In <[DL_Conv2D_part1](https://github.com/M-BKH-T/Deep-Learning-Course/blob/main/Book2/Lesson1_Conv2D/DL_Conv2D_part1.ipynb) , in the beginning ,we had two <font color='orange'>important questions:\n",
    "- What is **Convolutional networks** ?  \n",
    "- Why we need **Convolutional networks** ?\n",
    "\n",
    "We answered the first question in the [previous part](https://github.com/M-BKH-T/Deep-Learning-Course/blob/main/Book2/Lesson1_Conv2D/DL_Conv2D_part1.ipynb)\\\n",
    "We made the simple ___CNN___ network, first let me paste it here"
   ]
  },
  {
   "cell_type": "code",
   "execution_count": null,
   "id": "bce657be-a758-4f0f-a429-e97d0e298340",
   "metadata": {},
   "outputs": [],
   "source": [
    "model = Sequential([\n",
    "    Conv2D(200 , 5 , padding=\"same\",activation=\"relu\",kernel_initializer=\"he_normal\",input_shape=[28,28,1]),\n",
    "    MaxPooling2D(2),\n",
    "    Conv2D(150 , 3 , padding=\"same\" ,kernel_initializer=\"he_normal\", activation=\"relu\"),\n",
    "    MaxPooling2D(2),\n",
    "    Conv2D(100 , 2 , padding=\"same\" ,kernel_initializer=\"he_normal\", activation=\"relu\"),\n",
    "    Flatten(),\n",
    "    Dense(200 ,activation=\"relu\",kernel_initializer=\"he_normal\"),\n",
    "    keras.layers.Dropout(0.4),\n",
    "    Dense(100 , activation=\"relu\",kernel_initializer=\"he_normal\"),\n",
    "    keras.layers.Dropout(0.4),\n",
    "    Dense(75 , activation=\"relu\",kernel_initializer=\"he_normal\"),\n",
    "    keras.layers.Dropout(0.4),\n",
    "    Dense(50 , activation=\"relu\" , kernel_initializer=\"he_normal\"),\n",
    "    Dense(10 ,activation=\"softmax\")\n",
    "])"
   ]
  },
  {
   "cell_type": "markdown",
   "id": "974d647a-ab83-48d6-a0d5-aad34611c577",
   "metadata": {},
   "source": [
    "About second question: Why we need it?\n",
    "+ i think you may know the answer, yes! , we using it for processing datas such as; image data , video data and etc\\\n",
    "ofcourse we can use a `simple Sequential model` (with just Dense layers) instead of `CNN network` (sequential with Conv2D layer)\\\n",
    "but we cannot have a perfect model (it just can work in __simple datasets like fmnist__)"
   ]
  },
  {
   "cell_type": "markdown",
   "id": "c7f78a79-4020-4cf3-b95d-3ce1ce395beb",
   "metadata": {},
   "source": [
    "## Callbacks"
   ]
  },
  {
   "cell_type": "markdown",
   "id": "525f29ca-5ef9-45c8-8a29-a3f8a5e500f4",
   "metadata": {},
   "source": [
    "We have two usefull callback in tf\\\n",
    "1. <font color='orange'>Early stopping</font>: <font color='grean'>Stop training when a monitored metric has stopped improving\\\n",
    "there are three important parametrs</font>\n",
    "   1. <font color='cyan'>monitor:</font> <font color='pink'>Quantity to be monitored. Defaults to \"val_loss\". \n",
    "   2. <font color='grean'>patience:</font> <font color='orange'>Number of epochs with no improvement after which training will be stopped. Defaults to 0.\n",
    "   3. <font color='yellow'>restore_best_weights:</font> <font color='cyan'>Whether to restore model weights from the epoch with the best value of the monitored quantity. If False, the model weights obtained at the last step of training are used. An epoch will be restored regardless of the performance relative to the baseline. If no epoch improves on baseline, training will run for patience epochs and restore weights from the best epoch in that set. Defaults to False.\n",
    "3. <font color='orange'>Checkpoint</font>: <font color='grean'>ModelCheckpoint callback is used in conjunction with training using model.fit() to save a model or weights (in a checkpoint file) at some interval, so the model or weights can be loaded later to continue the training from the state saved."
   ]
  },
  {
   "cell_type": "code",
   "execution_count": null,
   "id": "4f5efed7-0a57-4025-9549-10fb128b6e15",
   "metadata": {},
   "outputs": [],
   "source": [
    "earlystopping_callback = keras.callbacks.EarlyStopping(patience=5 , monitor=\"val_loss\" , restore_best_weights=True)"
   ]
  },
  {
   "cell_type": "code",
   "execution_count": null,
   "id": "81e62d88-5e77-4082-b1b3-9cc8c4802034",
   "metadata": {},
   "outputs": [],
   "source": [
    "model_checkpoint_callback = keras.callbacks.ModelCheckpoint(\"model_cb_reg_housing.h5\",\n",
    "                                                         save_best_only=True)"
   ]
  },
  {
   "cell_type": "code",
   "execution_count": null,
   "id": "1b0bd11e-5fcd-4d3e-97e3-b93ae85ec040",
   "metadata": {},
   "outputs": [],
   "source": [
    "model.compile(optimizer=\"sgd\" ,loss=\"sparse_categorical_crossentropy\" ,metrics=[\"accuracy\"])"
   ]
  },
  {
   "cell_type": "code",
   "execution_count": null,
   "id": "66bfff54-7422-4f90-81ee-8dc70481cc9c",
   "metadata": {},
   "outputs": [],
   "source": [
    "fashion_mnist_model = model.fit(xtrain , ytrain , epochs=20 , validation_split=0.3 , callbacks=[earlystopping_callback,model_checkpoint_callback])"
   ]
  },
  {
   "cell_type": "markdown",
   "id": "82ff8854-d254-4da9-bba1-d39916bf62c3",
   "metadata": {},
   "source": [
    "<font color='grean'>Thank you for being with us</font>"
   ]
  }
 ],
 "metadata": {
  "kernelspec": {
   "display_name": "Python 3 (ipykernel)",
   "language": "python",
   "name": "python3"
  },
  "language_info": {
   "codemirror_mode": {
    "name": "ipython",
    "version": 3
   },
   "file_extension": ".py",
   "mimetype": "text/x-python",
   "name": "python",
   "nbconvert_exporter": "python",
   "pygments_lexer": "ipython3",
   "version": "3.9.19"
  }
 },
 "nbformat": 4,
 "nbformat_minor": 5
}
