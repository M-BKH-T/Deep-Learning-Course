{
 "cells": [
  {
   "cell_type": "markdown",
   "id": "aabbf2d5-6545-4b81-8f8b-36898bee1b98",
   "metadata": {},
   "source": [
    "- # <font color='Pink' >Hi there</font>,<font color='Cyan'>I'm</font> <font color='red'>___M-BKH-T___ </font>👋"
   ]
  },
  {
   "cell_type": "markdown",
   "id": "d310ee6d-90b3-4814-9d3d-abb23c215d71",
   "metadata": {},
   "source": [
    "IN Book <ins>ONE</ins>  we learned about base of DeepLearning, In BOOk <font color='grean'>Two</font>  we will study **Convolutional Networks**"
   ]
  },
  {
   "cell_type": "markdown",
   "id": "790aa1df-b479-488b-b81c-126c9d6754d5",
   "metadata": {},
   "source": [
    "- What is **Convolutional networks** ?  \n",
    "- Why we need **Convolutional networks** ?"
   ]
  },
  {
   "cell_type": "markdown",
   "id": "4e5f11b5-4f63-445e-9367-0fca0915750f",
   "metadata": {},
   "source": [
    "## Convolution Neural Network"
   ]
  },
  {
   "cell_type": "markdown",
   "id": "ea57c7cb-b973-4346-a71b-997074730475",
   "metadata": {},
   "source": [
    " A Convolutional Neural Network (CNN) is a type of Deep Learning neural network architecture commonly used in Computer Vision."
   ]
  },
  {
   "cell_type": "markdown",
   "id": "50930050-6113-4511-aa72-7b71923119b7",
   "metadata": {},
   "source": [
    "Convolutional Neural Network (CNN) is the extended version of artificial neural networks (ANN) which is predominantly used to extract the feature from the grid-like matrix dataset. For example visual datasets like images or videos where data patterns play an extensive role."
   ]
  },
  {
   "cell_type": "markdown",
   "id": "2f8c1119-4c40-4b64-8137-8947c291aca2",
   "metadata": {},
   "source": [
    "<img src=\"https://github.com/M-BKH-T/Deep-Learning-Course/blob/main/Book2/image/conv2d.png?raw=true\">"
   ]
  },
  {
   "cell_type": "markdown",
   "id": "7a1bda5c-e0df-4e95-8429-5d914dc6c79e",
   "metadata": {},
   "source": [
    "- As you see, there are four layers in CNN Netwoorks \n",
    "- <font color=\"cyan\">Input layer</font> , <font color=\"pink\">Convolutional layer</font> , <font color=\"purple\">Max pooling layer</font> and <font color=\"yellow\">Dense layer"
   ]
  },
  {
   "cell_type": "markdown",
   "id": "2d642571-b0e2-44d5-ab1e-f5cb1f9b2d75",
   "metadata": {},
   "source": [
    "## <font color='cyan'>Convolutional layer </font>\n",
    "A convolutional layer is the main building block of a CNN. It contains a set of filters (or kernels), parameters of which are to be learned throughout the training. The size of the filters is usually smaller than the actual image. Each filter convolves with the image and creates an activation map"
   ]
  },
  {
   "cell_type": "markdown",
   "id": "c3368915-2eff-4110-b0eb-93814a704b3b",
   "metadata": {},
   "source": [
    "## <font color=\"purple\">Max pooling layer</font>\n",
    "Max pooling is performed on the convolutional layers of a CNN. It involves sliding a window (often called a filter or kernel) across the input data, similar to the convolution step, but instead of performing a matrix multiplication, max pooling takes the maximum value within the window. This maximum value becomes a single pixel in the new, pooled output"
   ]
  },
  {
   "cell_type": "markdown",
   "id": "9e536697-64ee-497a-a310-7ea1676a3763",
   "metadata": {},
   "source": [
    "<img src=\"https://github.com/M-BKH-T/Deep-Learning-Course/blob/main/Book2/image/MaxpoolSample2.png?raw=true\">"
   ]
  },
  {
   "cell_type": "markdown",
   "id": "a89bd197-3dfe-44ea-bf7a-5047d2e02abc",
   "metadata": {},
   "source": [
    "Let's build a simple CNN model "
   ]
  },
  {
   "cell_type": "code",
   "execution_count": 57,
   "id": "725e9a2b-19ff-4060-9ea3-3bb8b0ac5b48",
   "metadata": {},
   "outputs": [],
   "source": [
    "from tensorflow import keras\n",
    "import numpy as np \n",
    "import tensorflow as tf\n",
    "import matplotlib.pyplot as plt\n",
    "import tensorflow as tf\n",
    "from keras.models import Sequential\n",
    "from keras.layers import Dense , MaxPooling2D , Conv2D , Flatten"
   ]
  },
  {
   "cell_type": "code",
   "execution_count": 58,
   "id": "c4e552b0-8020-477d-8a44-483cdccb9927",
   "metadata": {},
   "outputs": [],
   "source": [
    "fashion_mnist = keras.datasets.fashion_mnist # as before we will work with keras dataset\n",
    "(xtrain , ytrain ) , (xtest , ytest ) = fashion_mnist.load_data() #use this for loading data and spliting into trains and tests"
   ]
  },
  {
   "cell_type": "code",
   "execution_count": 59,
   "id": "78e19379-3822-4991-af00-79ffaa13187e",
   "metadata": {},
   "outputs": [
    {
     "data": {
      "text/plain": [
       "(60000, 28, 28)"
      ]
     },
     "execution_count": 59,
     "metadata": {},
     "output_type": "execute_result"
    }
   ],
   "source": [
    "xtrain.shape"
   ]
  },
  {
   "cell_type": "code",
   "execution_count": 60,
   "id": "9c0f7d57-4150-4a30-86a7-0cb632e3ef05",
   "metadata": {},
   "outputs": [
    {
     "data": {
      "text/plain": [
       "<matplotlib.image.AxesImage at 0x2be5e59a580>"
      ]
     },
     "execution_count": 60,
     "metadata": {},
     "output_type": "execute_result"
    },
    {
     "data": {
      "image/png": "[encoded data removed]",
      "text/plain": [
       "<Figure size 640x480 with 1 Axes>"
      ]
     },
     "metadata": {},
     "output_type": "display_data"
    }
   ],
   "source": [
    "plt.imshow(xtrain[1,:,:,] ,cmap='gray') # with cmap we can change color of the puture "
   ]
  },
  {
   "cell_type": "code",
   "execution_count": 80,
   "id": "eb435dc8-b286-43e8-88a2-2e8938f2be58",
   "metadata": {},
   "outputs": [],
   "source": [
    "xtrain , xtest = xtrain/255.0 , xtest/255.0 "
   ]
  },
  {
   "cell_type": "markdown",
   "id": "7ac56222-48a7-44a4-8168-576c3f2a2426",
   "metadata": {},
   "source": [
    "- # <font color='orange'>Tip : <font color='red'>NO</font> <font color='grean'>**Normalize** <font color='red'>NO</font> model !"
   ]
  },
  {
   "cell_type": "code",
   "execution_count": 81,
   "id": "2f9b99ae-9720-43a9-af6d-bcec6e58733c",
   "metadata": {},
   "outputs": [
    {
     "data": {
      "text/plain": [
       "(60000, 28, 28)"
      ]
     },
     "execution_count": 81,
     "metadata": {},
     "output_type": "execute_result"
    }
   ],
   "source": [
    "xtrain.shape"
   ]
  },
  {
   "cell_type": "markdown",
   "id": "f1e60d1f-7088-46ce-aa72-1060258ccde0",
   "metadata": {},
   "source": [
    "Before biuld model we need know someting:\n",
    "- Padding : The padding parameter of the Keras Conv2D class can take one of two values: **‘valid’** or **‘same’**.\n",
    "Setting the value to “valid” parameter means that the input volume is not zero-padded and the spatial dimensions are allowed to reduce via the natural application of convolution.\n",
    "___\n",
    "- Droupout : Dropout is a powerful technique utilized in training Neural Networks to minimize the occurrence of overfitting. Primarily, it serves as a form of regularization, wherein during the training phase, certain neurons are randomly 'dropped out' or turned off, preventing them from participating in the forward pass and backpropagation. This process allows the model to generalize better and improve accuracy on unseen data."
   ]
  },
  {
   "cell_type": "code",
   "execution_count": 95,
   "id": "6d83a114-b089-4445-996b-a5bbb422f909",
   "metadata": {},
   "outputs": [],
   "source": [
    "model = Sequential([\n",
    "    Conv2D(200 , 5 , padding=\"same\",activation=\"relu\",kernel_initializer=\"he_normal\",input_shape=[28,28,1]),\n",
    "    MaxPooling2D(2),\n",
    "    Conv2D(150 , 3 , padding=\"same\" ,kernel_initializer=\"he_normal\", activation=\"relu\"),\n",
    "    MaxPooling2D(2),\n",
    "    Conv2D(100 , 2 , padding=\"same\" ,kernel_initializer=\"he_normal\", activation=\"relu\"),\n",
    "    Flatten(),\n",
    "    Dense(200 ,activation=\"relu\",kernel_initializer=\"he_normal\"),\n",
    "    keras.layers.Dropout(0.4),\n",
    "    Dense(100 , activation=\"relu\",kernel_initializer=\"he_normal\"),\n",
    "    keras.layers.Dropout(0.4),\n",
    "    Dense(75 , activation=\"relu\",kernel_initializer=\"he_normal\"),\n",
    "    keras.layers.Dropout(0.4),\n",
    "    Dense(50 , activation=\"relu\" , kernel_initializer=\"he_normal\"),\n",
    "    Dense(10 ,activation=\"softmax\")\n",
    "])"
   ]
  },
  {
   "cell_type": "markdown",
   "id": "7919c46b-ec0d-4aa8-9ba4-d7f24f5ca68b",
   "metadata": {},
   "source": [
    "IN part two we gonna learn; what is Callbacks and how can we use it"
   ]
  }
 ],
 "metadata": {
  "kernelspec": {
   "display_name": "Python 3 (ipykernel)",
   "language": "python",
   "name": "python3"
  },
  "language_info": {
   "codemirror_mode": {
    "name": "ipython",
    "version": 3
   },
   "file_extension": ".py",
   "mimetype": "text/x-python",
   "name": "python",
   "nbconvert_exporter": "python",
   "pygments_lexer": "ipython3",
   "version": "3.9.19"
  }
 },
 "nbformat": 4,
 "nbformat_minor": 5
}
